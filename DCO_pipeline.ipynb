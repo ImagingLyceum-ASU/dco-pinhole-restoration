{
 "cells": [
  {
   "cell_type": "code",
   "execution_count": null,
   "source": [
    "%load_ext autoreload\n",
    "%autoreload 2\n",
    "import os\n",
    "import rawpy\n",
    "import cv2\n",
    "import numpy as np\n",
    "import cupy as cp\n",
    "import matplotlib.pyplot as plt\n",
    "import utils\n",
    "import ISP as isp\n",
    "import ISP.utils as utils\n",
    "from denoise import LPfilter, DenoiseNet\n",
    "from deblur import DeblurNet"
   ],
   "outputs": [],
   "metadata": {}
  },
  {
   "cell_type": "code",
   "execution_count": null,
   "source": [
    "path = './data/real_scenes/'\n",
    "\n",
    "filenames = [f for f in sorted(os.listdir(path)) if f.endswith('.RW2')]\n",
    "img_n = 0 # Image number (0-3)\n",
    "fn = filenames[img_n]\n",
    "print(fn)\n",
    "\n",
    "raw = rawpy.imread(path + fn)\n",
    "pattern = raw.raw_pattern\n",
    "byr = raw.raw_image_visible.copy()\n",
    "utils.imshow(byr, titles='RAW Bayer Image')"
   ],
   "outputs": [],
   "metadata": {}
  },
  {
   "cell_type": "code",
   "execution_count": null,
   "source": [
    "############# Preprocessing RAW image #############\n",
    "blc = isp.black_level_correction(byr, black_level=raw.black_level_per_channel,\n",
    "                                    white_level=raw.white_level, pattern=pattern,\n",
    "                                    clip_range=[0, raw.white_level])\n",
    "\n",
    "rgb = isp.demosaic_cv2(blc, pattern).astype('float32') / raw.white_level\n",
    "\n",
    "# Display input image (postprocess for visualization)\n",
    "utils.imshow(isp.postprocess(rgb, raw), titles='Input Pinhole Image')"
   ],
   "outputs": [],
   "metadata": {}
  },
  {
   "cell_type": "code",
   "execution_count": null,
   "source": [
    "################## Denoise ##################\n",
    "print('Denoising...')\n",
    "\n",
    "LPFilter = LPfilter(device='cuda')\n",
    "denoiseNet = DenoiseNet(device='cuda')\n",
    "\n",
    "rgb_denoise = LPFilter(rgb)\n",
    "rgb_denoise = denoiseNet(rgb_denoise)\n",
    "\n",
    "utils.imshow(isp.postprocess(rgb_denoise, raw), titles='Denoised Pinhole Image')"
   ],
   "outputs": [],
   "metadata": {}
  },
  {
   "cell_type": "code",
   "execution_count": null,
   "source": [
    "################## Deblur ##################\n",
    "print('Debluring...')\n",
    "\n",
    "deblurNet = DeblurNet(device='cuda')\n",
    "\n",
    "rgb_deblur = deblurNet(rgb_denoise*255, None)\n",
    "\n",
    "utils.imshow(isp.postprocess(rgb_deblur, raw), titles='Deblured Pinhole Image')"
   ],
   "outputs": [],
   "metadata": {}
  }
 ],
 "metadata": {
  "kernelspec": {
   "name": "python3",
   "display_name": "Python 3.7.7 64-bit ('sensebrain': conda)"
  },
  "language_info": {
   "codemirror_mode": {
    "name": "ipython",
    "version": 3
   },
   "file_extension": ".py",
   "mimetype": "text/x-python",
   "name": "python",
   "nbconvert_exporter": "python",
   "pygments_lexer": "ipython3",
   "version": "3.7.7"
  },
  "orig_nbformat": 2,
  "interpreter": {
   "hash": "361c3a607832d304df81577cf9d4155c6d653cc1e35a92da89da67dd00cbd8a3"
  }
 },
 "nbformat": 4,
 "nbformat_minor": 2
}